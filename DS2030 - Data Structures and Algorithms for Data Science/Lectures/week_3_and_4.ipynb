{
 "cells": [
  {
   "cell_type": "markdown",
   "metadata": {},
   "source": [
    "---\n",
    "\n",
    "# Week - 3\n",
    "\n",
    "---"
   ]
  },
  {
   "cell_type": "markdown",
   "metadata": {},
   "source": [
    "## Day 9 - 19.08.2024"
   ]
  },
  {
   "cell_type": "markdown",
   "metadata": {},
   "source": [
    "### Stacks"
   ]
  },
  {
   "cell_type": "markdown",
   "metadata": {},
   "source": [
    "**Stacks**"
   ]
  },
  {
   "cell_type": "markdown",
   "metadata": {},
   "source": [
    "__Abstract Data Type(ADT)__\n",
    "\n",
    "- an adt specifies the data stored, ops that can be performed, err conditions\n",
    "- ex: adt modelling with stocks"
   ]
  },
  {
   "cell_type": "markdown",
   "metadata": {},
   "source": [
    "__The Stack ADT__\n",
    "\n",
    "- It stores arbitrary objs\n",
    "- insertions and deletions follow last in first out scheme\n",
    "- visualised as a spring loaded plate dispenser\n",
    "- main ops are `push(obj)` (no return val) and `obj pop()` (removes and returrns) (so, we need to keep track of the last inserted elem, etc..)\n",
    "- Auxillary ops: `obj top()` (doesnt remove), `int len()`, `bool is_empty()`"
   ]
  },
  {
   "cell_type": "markdown",
   "metadata": {},
   "source": [
    "Ex: browse history, undo/redo op, chain of methods calls in a lang that supports recursion..."
   ]
  },
  {
   "cell_type": "markdown",
   "metadata": {},
   "source": [
    "Performance:\n",
    "\n",
    "- O(n) space and O(1) time for each op"
   ]
  },
  {
   "cell_type": "markdown",
   "metadata": {},
   "source": [
    "We can make a stack using a singly linked list by storing the elements in reverse and the head points to the last element..."
   ]
  },
  {
   "cell_type": "markdown",
   "metadata": {},
   "source": [
    "Applications of stacks:\n",
    "\n",
    "- paranthesis matching \n",
    "- html tag matching\n",
    "- evaluating arithmic exps"
   ]
  },
  {
   "cell_type": "markdown",
   "metadata": {},
   "source": [
    "Logic behind evaluating arithmetic exps..<br>\n",
    "we can use multiple stacks to do it..<br>\n",
    "we maintain a value stack and an operator stack<br>\n",
    "we tokenize based on spaces and we getv a list of tokens which will be either a value or an operator\n",
    "<br>"
   ]
  },
  {
   "cell_type": "markdown",
   "metadata": {},
   "source": [
    "## Day 10 - 21.08.2024"
   ]
  },
  {
   "cell_type": "markdown",
   "metadata": {},
   "source": [
    "### Queues"
   ]
  },
  {
   "cell_type": "markdown",
   "metadata": {},
   "source": [
    "- Queues follows first in first out fashion\n",
    "- insertions at the rear and removal at the front\n",
    "- main operations <br>`enqueue(obj)` inserts at the end of the queue<br>`dequeue()` removes and returns the first element at the front of the queue"
   ]
  },
  {
   "cell_type": "markdown",
   "metadata": {},
   "source": [
    "We can implement queues using arrays by making the array is circular in nature\n",
    "\n"
   ]
  },
  {
   "cell_type": "markdown",
   "metadata": {},
   "source": [
    "Applications:<br>\n",
    "- waiting lists, bureaucracy\n",
    "- access to shared resources\n",
    "- multiprogramming\n"
   ]
  },
  {
   "cell_type": "markdown",
   "metadata": {},
   "source": [
    "One application is a round robin scheduler...<br>\n"
   ]
  },
  {
   "cell_type": "markdown",
   "metadata": {},
   "source": [
    "**Priority Queue ADT**"
   ]
  },
  {
   "cell_type": "markdown",
   "metadata": {},
   "source": [
    "- stores a collection of entries\n",
    "- each element has `(key, value)`\n",
    "- where, `key` defines the priority of the element\n",
    "- Main ops<br> - `insert(k,v)` inserts an entry with key k and value v<br> - `removeMin()` removes the entry with the smallest key or null if its empty (it's possible that two elements have the same key in that case we return all the key value pairs)"
   ]
  },
  {
   "cell_type": "markdown",
   "metadata": {},
   "source": [
    "## Day 11 - 23.08.2024"
   ]
  },
  {
   "cell_type": "markdown",
   "metadata": {},
   "source": [
    "Total order realtions:\n",
    "\n",
    "- keys in a priority queue can be arbitrary objs on which an order is defied\n",
    "- to distinct entries can have same key\n",
    "- mathematical concept of total order relation $\\le$"
   ]
  },
  {
   "cell_type": "markdown",
   "metadata": {},
   "source": [
    "Comparator ADT...\n",
    "\n",
    "\n",
    "\n",
    "Seq based priority queue"
   ]
  },
  {
   "cell_type": "markdown",
   "metadata": {},
   "source": [
    "### End of Week 3"
   ]
  },
  {
   "cell_type": "markdown",
   "metadata": {},
   "source": [
    "---- \n",
    "# Week 4\n",
    "\n",
    "----"
   ]
  },
  {
   "cell_type": "markdown",
   "metadata": {},
   "source": [
    "## Tree Structures and traversal"
   ]
  },
  {
   "cell_type": "markdown",
   "metadata": {},
   "source": [
    "__Trees:__\n",
    "\n",
    "- abstract model of hierarchical structure\n",
    "- a tree consists of nodes with a parent child relation"
   ]
  },
  {
   "cell_type": "markdown",
   "metadata": {},
   "source": [
    "Ex:\n",
    "\n",
    "- {A: B, C, D}\n",
    "- {B: E, F}\n",
    "- {C: G,H}\n",
    "- {F: I, J, K}\n",
    "- A is  the root, \n",
    "- B is parent of E and F, \n",
    "- A is the ancestor of E, F\n",
    "- C is the sibling of B\n",
    "- E I J K G H D are leaves\n",
    "- A B C F are internal nodes"
   ]
  },
  {
   "cell_type": "markdown",
   "metadata": {},
   "source": [
    "We can have the notion of a sub tree, rooted at a particular node..."
   ]
  },
  {
   "cell_type": "code",
   "execution_count": null,
   "metadata": {},
   "outputs": [],
   "source": [
    "class Node:\n",
    "    def __init__(self, v, p ,c) -> None:\n",
    "        self.value = None\n",
    "        self.parent = None\n",
    "        self.childern = [] # list of nodes"
   ]
  },
  {
   "cell_type": "code",
   "execution_count": null,
   "metadata": {},
   "outputs": [],
   "source": [
    "class Tree:\n",
    "    def __init__(self) -> None:\n",
    "        self.root = None\n",
    "        pass"
   ]
  },
  {
   "cell_type": "markdown",
   "metadata": {},
   "source": [
    "Now supposing we want to insert an element... \n",
    "<br>from the ex, `tree.insert(parent=K,child_to_insert=L)`"
   ]
  },
  {
   "cell_type": "markdown",
   "metadata": {},
   "source": [
    "tree traversal:\n",
    "\n",
    "- start from the root\n",
    "- check if root is the reqd element\n",
    "- if yes, append the child to the childern of the reqd thingy to the node then make the root the parent\n",
    "- else, we recurse (and recursion uses a stack dammit)"
   ]
  },
  {
   "cell_type": "markdown",
   "metadata": {},
   "source": [
    "Terminology... \n",
    "\n",
    "- depth (level) no of intermediate nodes b/w the node and the root\n",
    "- height max depth\n",
    "- degree is the no of children"
   ]
  },
  {
   "cell_type": "markdown",
   "metadata": {},
   "source": [
    "**Binary Tree**\n",
    "\n",
    "- An ordered tree childeren are ordered\n",
    "- Every node has at most 2 chilren (left, right)"
   ]
  },
  {
   "cell_type": "markdown",
   "metadata": {},
   "source": [
    "Ex: Arithmetic expression, Decision tree"
   ]
  },
  {
   "cell_type": "markdown",
   "metadata": {},
   "source": [
    "Types:\n",
    "\n",
    "- proper/full: either zero or two\n",
    "- complete: every level except possibly the last is completely filled"
   ]
  },
  {
   "cell_type": "markdown",
   "metadata": {},
   "source": [
    "## Day 12 - 26.08.2024"
   ]
  },
  {
   "cell_type": "markdown",
   "metadata": {},
   "source": [
    "Consider a binary tree of height `h`... the min number of nodes `n` it han have is `h+1` (if we consider a tree the resembles a chain, i.e a single child for each node)"
   ]
  },
  {
   "cell_type": "markdown",
   "metadata": {},
   "source": [
    "Max number is `2`<sup>`h+1`</sup> `- 1` and it'll be a complete binary tree with leaf nodes at height `h`"
   ]
  },
  {
   "cell_type": "markdown",
   "metadata": {},
   "source": [
    "$\\therefore$ `h+1` $\\le$ `n` $\\le$ `2`<sup>`h+1`</sup>`- 1`"
   ]
  },
  {
   "cell_type": "markdown",
   "metadata": {},
   "source": [
    "with max leaf nodes ranging between 1 and 2<sup>h</sup>"
   ]
  },
  {
   "cell_type": "markdown",
   "metadata": {},
   "source": [
    "and internal nodes range between h and 2<sup>h</sup> -1"
   ]
  },
  {
   "cell_type": "markdown",
   "metadata": {},
   "source": [
    "Suppose we are given a binary tree given n nodes, what are the bounds??\n",
    "A complete bin tree will have the smallest height\n",
    "\n",
    "`log`<sub>`2`</sub>`(n+1) - 1 ` $\\le$ h $\\le$ n-1"
   ]
  },
  {
   "cell_type": "markdown",
   "metadata": {},
   "source": [
    "We can also come up with an expression for the relation between n<sub>E</sub> and n<sub>I</sub> ie, the external nodes and the internal nodes"
   ]
  },
  {
   "cell_type": "markdown",
   "metadata": {},
   "source": [
    "claim: n<sub>E</sub> +1 $\\ge$ n<sub>I</sub> \n",
    "\n",
    "can be proved through induction \n"
   ]
  },
  {
   "cell_type": "markdown",
   "metadata": {},
   "source": [
    "**__The Tree ADT__**"
   ]
  },
  {
   "cell_type": "markdown",
   "metadata": {},
   "source": [
    "Linked structure for a binary tree"
   ]
  },
  {
   "cell_type": "markdown",
   "metadata": {},
   "source": [
    "## Day 13 - 28.08.2024"
   ]
  },
  {
   "cell_type": "markdown",
   "metadata": {},
   "source": [
    "**Tree traversal...**\n",
    "\n",
    "- systematic way to visit all the nodes in a tree in a specified order <br> -> preorder - processes each node before processing its children <br> -> post order - processes each node after processing its children"
   ]
  },
  {
   "cell_type": "markdown",
   "metadata": {},
   "source": [
    "the alg for pre order traversal will be something of this fashion\n",
    "\n",
    "supposing the tree of this order\n",
    "\n",
    "- A = B,C\n",
    "- B = D,E,F\n",
    "- C = G, H\n",
    "- G = I, J\n",
    "\n",
    "pre order =  ABDEFCGIJH"
   ]
  },
  {
   "cell_type": "code",
   "execution_count": 1,
   "metadata": {},
   "outputs": [],
   "source": [
    "def check_if(e):\n",
    "    # checks if the children are there or not\n",
    "    pass\n",
    "\n",
    "def preorder(Node):\n",
    "    print(Node.element)\n",
    "    if not check_if(Node.children)==0:\n",
    "        for child in Node.children:\n",
    "            preorder(child)"
   ]
  },
  {
   "cell_type": "markdown",
   "metadata": {},
   "source": [
    "post order = DEFBIJGHCA"
   ]
  },
  {
   "cell_type": "code",
   "execution_count": 2,
   "metadata": {},
   "outputs": [],
   "source": [
    "def postorder(Node):\n",
    "    if not check_if(Node.children)==0:\n",
    "        for child in Node.children:\n",
    "            preorder(child)\n",
    "    print(Node.element)\n"
   ]
  },
  {
   "cell_type": "markdown",
   "metadata": {},
   "source": [
    "traversals of binary trees"
   ]
  },
  {
   "cell_type": "markdown",
   "metadata": {},
   "source": [
    "Ex:\n",
    "\n",
    "- A = B, C\n",
    "- B =D, E\n",
    "- E = H, I \n",
    "- C = F, G\n"
   ]
  },
  {
   "cell_type": "markdown",
   "metadata": {},
   "source": [
    "preorder treversal =  A B D E H I C F G\n",
    "\n",
    "Postorder traversal = D H I B F G C A\n",
    "<br>can be used for the evalation of arithmetic expresitions"
   ]
  },
  {
   "cell_type": "markdown",
   "metadata": {},
   "source": [
    "Inorder traversal:\n",
    "\n",
    "specific to binary tree...\n",
    "\n",
    "- if node has lc do inorder(lc)\n",
    "- process the node\n",
    "- if node has rc do inorder(rc)\n",
    "\n",
    "the inorder traversal of the above ex is<br>\n",
    "DBHEIAFCG"
   ]
  },
  {
   "cell_type": "markdown",
   "metadata": {},
   "source": [
    "Now, if we have a preorder traversal available can we reconstuct the binary tree?\n",
    "\n",
    "Nahi! (All we can get is that the first one is the root and the next is the child of the root)"
   ]
  },
  {
   "cell_type": "markdown",
   "metadata": {},
   "source": [
    "Same with post order traversal"
   ]
  },
  {
   "cell_type": "markdown",
   "metadata": {},
   "source": [
    "Now, given preorder and inorder traversals, we can identify the left and right subtrees and reconstruct the tree\n"
   ]
  },
  {
   "cell_type": "markdown",
   "metadata": {},
   "source": [
    "Same with post and inorder"
   ]
  },
  {
   "cell_type": "markdown",
   "metadata": {},
   "source": [
    "We can build it from preorder and postorder as well... but if there were a single child somewhere, we cant assign it"
   ]
  },
  {
   "cell_type": "markdown",
   "metadata": {},
   "source": [
    "If we have a complete binary tree, one traversal will give the tree"
   ]
  }
 ],
 "metadata": {
  "kernelspec": {
   "display_name": "Python 3",
   "language": "python",
   "name": "python3"
  },
  "language_info": {
   "codemirror_mode": {
    "name": "ipython",
    "version": 3
   },
   "file_extension": ".py",
   "mimetype": "text/x-python",
   "name": "python",
   "nbconvert_exporter": "python",
   "pygments_lexer": "ipython3",
   "version": "3.11.9"
  }
 },
 "nbformat": 4,
 "nbformat_minor": 2
}
