{
 "cells": [
  {
   "cell_type": "markdown",
   "metadata": {},
   "source": [
    "---\n",
    "\n",
    "# Week - 5\n",
    "\n",
    "---"
   ]
  },
  {
   "cell_type": "markdown",
   "metadata": {},
   "source": [
    "## Day 14 - 30.08.2024"
   ]
  },
  {
   "cell_type": "markdown",
   "metadata": {},
   "source": [
    "## Heaps"
   ]
  },
  {
   "cell_type": "markdown",
   "metadata": {},
   "source": [
    "An ADT implemented using a binary tree\n",
    "- heap - order : for every internal node v other than the root, _key(v)_ $\\ge$ _key(parent(v))_  {for a min heap and converse for a max heap}\n",
    "- complete binary tree property : let h be the height of the heap <br> - for i=0,...,h-1 there are 2<sup>i</sup> nodes of depth i <br> - at depth h-1 the internal nodes are ti the left of the external nodes\n",
    "- the last node of a heap is the right most node of max depth (something like that)"
   ]
  },
  {
   "cell_type": "markdown",
   "metadata": {},
   "source": [
    "The minimum element of a min heap is at the root (can be proven by contradiction)<br>and hence accessing the min is a O(1) process"
   ]
  },
  {
   "cell_type": "markdown",
   "metadata": {},
   "source": [
    "Theorem: a heap that stores n keys has height O(logn) <br>Proof: from a complete binary tree"
   ]
  },
  {
   "cell_type": "markdown",
   "metadata": {},
   "source": [
    "**Representing a min heap using an array:**\n",
    "\n",
    "[0(root), 1(left child of the root), 2(right child of the root), 3(lc of lc of root), 4(rc of the lc of the root), 5(lc of the rc of the root), 6(rc of the rc of the root), ...]<br>\n",
    "if `i` is the parent `2i+1`, `2i+2`<br>\n",
    "if `i` is the child $\\lfloor$ $(i-1)/2$ $\\rfloor$ "
   ]
  },
  {
   "cell_type": "markdown",
   "metadata": {},
   "source": [
    "We need to maintain the structural properties of the heap..."
   ]
  },
  {
   "cell_type": "markdown",
   "metadata": {},
   "source": [
    "We can implement a priority queue using a heap... &nbsp;\n",
    "with the elem with the highest priority at the root... \n",
    "\n",
    "insertion alg is something like this:\n",
    "\n",
    "- find the insertion node (the new last node, z)\n",
    "- store it at z\n",
    "- restore the heap-order property (the heapify op) "
   ]
  },
  {
   "cell_type": "markdown",
   "metadata": {},
   "source": [
    "## Day 15 - 02.09.2024"
   ]
  },
  {
   "cell_type": "code",
   "execution_count": 4,
   "metadata": {},
   "outputs": [],
   "source": [
    "def upheap(N):\n",
    "    if N == root:\n",
    "        return \n",
    "    if N.key >= N.parent.key:\n",
    "        return\n",
    "    else:\n",
    "        temp =  N.parent.key\n",
    "        N.parent.key = N.key\n",
    "        N.key = temp.key\n",
    "        # we're just swapping the contents here\n",
    "        # if we were to use pointers, we need to be careful\n",
    "    upheap(N.parent)\n",
    "    "
   ]
  },
  {
   "cell_type": "markdown",
   "metadata": {},
   "source": [
    "After a series of swaps we'll get back the structure....\n",
    "\n",
    "O(logn) is the max no of swaps\n",
    "\n",
    "The correctness of the upheap:\n",
    "\n",
    "- as only the nodes along the path where the nodes are inserted, \n",
    "- heap property may be violated for the children of these nodes\n",
    "- but, the new contents are of lower priority...\n",
    "- so the heap property is preserved"
   ]
  },
  {
   "cell_type": "markdown",
   "metadata": {},
   "source": [
    "Now how about removing an element?"
   ]
  },
  {
   "cell_type": "markdown",
   "metadata": {},
   "source": [
    "- replace the root key with the last node, rather last leaf, w\n",
    "- remove w\n",
    "- restore the heap - order property"
   ]
  },
  {
   "cell_type": "code",
   "execution_count": 9,
   "metadata": {},
   "outputs": [],
   "source": [
    "def downheap(N):\n",
    "    if N.lc ==None or N.rc == None:\n",
    "        return \n",
    "    if N.lc.key>=N.key and N.rc.key>=N.key:\n",
    "        return\n",
    "    else:\n",
    "        if N.lc.key<N.rc.key:\n",
    "            temp = N.lc.key\n",
    "            N.lc.key = N.key\n",
    "            N.key =  temp\n",
    "        else:\n",
    "            # similar to the if bloc above\n",
    "            pass"
   ]
  },
  {
   "cell_type": "markdown",
   "metadata": {},
   "source": [
    "**Runtime analysis**\n",
    "\n",
    "of n nodes to a heap\n",
    "- insertion : _O(logn)_\n",
    "- removal : _O(logn)_\n",
    "\n",
    "Insertion of n elements needs _O(nlogn)_"
   ]
  },
  {
   "cell_type": "markdown",
   "metadata": {},
   "source": [
    "## Day 16 - 04.09.2024 "
   ]
  },
  {
   "cell_type": "markdown",
   "metadata": {},
   "source": [
    "__Building a heap__\n",
    "\n",
    "we found that we needed O(nlogn) given there are n elements"
   ]
  },
  {
   "cell_type": "markdown",
   "metadata": {},
   "source": [
    "**Merge heaps**\n",
    "\n",
    "- we r given 2 heaps and key k1\n",
    "\n",
    "We also need to see if the heaps are compatible for merging\n"
   ]
  },
  {
   "cell_type": "code",
   "execution_count": 1,
   "metadata": {},
   "outputs": [
    {
     "name": "stdout",
     "output_type": "stream",
     "text": [
      "3.9068905956085187\n"
     ]
    }
   ],
   "source": [
    "import math\n",
    "\n",
    "print(math.log2(15))"
   ]
  },
  {
   "cell_type": "markdown",
   "metadata": {},
   "source": [
    "**Building a heap - Bottom-up**\n",
    "\n",
    "- we build the bottom layer first\n",
    "- then we merge it with some elements\n",
    "- then we do down heap operations\n",
    "\n",
    "so, instead of adding each element to the heap, we add some no of elements at a time\n",
    "<br>at phase i (there'll be logn phases), 2<sup>i-1</sup> nodes are merged <br>note that the number of nodes decreease as we move upward\n",
    "\n",
    "_Runtime analysis_\n",
    "\n",
    "Its _O(n)_.... which we can see later probably....\n",
    "\n",
    "toal no. of swaps = 2<sup>h+1</sup> = n-1"
   ]
  },
  {
   "cell_type": "markdown",
   "metadata": {},
   "source": [
    "**Sorting algorithms**\n",
    "\n",
    "</br>\n",
    "\n",
    "_Selection sort_\n",
    "\n",
    "- selection sort is a variation of priority queue sort where the priority queue is implemented with an unsorted sequence\n",
    "- runs on _O(n<sup>2</sup>)_\n",
    "\n",
    "\n",
    "<br>\n",
    "\n",
    "_Insertion sort_\n",
    "\n",
    "- sorting is based on a priority queue whihc itselef is sorted...\n",
    "- inserting the elements takes time\n",
    "- runs on _O(n<sup>2</sup>)_\n",
    "\n",
    "<br>\n",
    "\n",
    "_Heap sort_\n",
    "\n",
    "- we can implement a priority queue as a heap\n",
    "- this uses _O(n)_ space, sorting takes _O(nlogn)_\n",
    "- `insert` and `removeMin` takes _O(logn)_\n",
    "- create a heap\n",
    "- do a removeMin repeatedly till the head becomes empty\n",
    "- to do an insertion sort\n",
    "- an _in-place_ operation"
   ]
  },
  {
   "cell_type": "markdown",
   "metadata": {},
   "source": [
    "---\n",
    "\n",
    "<p align = center> End of Week 5</p> \n",
    "\n",
    "---"
   ]
  },
  {
   "cell_type": "code",
   "execution_count": 1,
   "metadata": {},
   "outputs": [],
   "source": [
    "class BinaryTreeNode:\n",
    "    def __init__(self, data):\n",
    "        self.data = data\n",
    "        self.left = None\n",
    "        self.right = None\n",
    "    \n",
    "    def insert_left(self, data):\n",
    "        if self.left is None:\n",
    "            self.left = BinaryTreeNode(data)\n",
    "        else:\n",
    "            new_node = BinaryTreeNode(data)\n",
    "            new_node.left = self.left\n",
    "            self.left = new_node\n",
    "    \n",
    "    def insert_right(self, data):\n",
    "        if self.right is None:\n",
    "            self.right = BinaryTreeNode(data)\n",
    "        else:\n",
    "            new_node = BinaryTreeNode(data)\n",
    "            new_node.right = self.right\n",
    "            self.right = new_node\n",
    "    \n",
    "    def print_tree(self, level=0):\n",
    "        if self.right:\n",
    "            self.right.print_tree(level + 1)\n",
    "        print(\" \" * level * 2, self.data)\n",
    "        if self.left:\n",
    "            self.left.print_tree(level + 1)\n"
   ]
  },
  {
   "cell_type": "code",
   "execution_count": 2,
   "metadata": {},
   "outputs": [
    {
     "name": "stdout",
     "output_type": "stream",
     "text": [
      "   90\n",
      " 3\n",
      "     64\n",
      "       100\n",
      "   2\n"
     ]
    }
   ],
   "source": [
    "tree_1 =  BinaryTreeNode(3)\n",
    "tree_1.insert_left(2)\n",
    "tree_1.insert_right(90)\n",
    "tree_1.left.insert_right(64)\n",
    "tree_1.left.right.insert_left(100)\n",
    "tree_1.print_tree()"
   ]
  }
 ],
 "metadata": {
  "kernelspec": {
   "display_name": "Python 3",
   "language": "python",
   "name": "python3"
  },
  "language_info": {
   "codemirror_mode": {
    "name": "ipython",
    "version": 3
   },
   "file_extension": ".py",
   "mimetype": "text/x-python",
   "name": "python",
   "nbconvert_exporter": "python",
   "pygments_lexer": "ipython3",
   "version": "3.11.10"
  }
 },
 "nbformat": 4,
 "nbformat_minor": 2
}
