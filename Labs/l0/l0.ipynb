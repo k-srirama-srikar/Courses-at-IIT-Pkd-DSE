{
  "cells": [
    {
      "cell_type": "markdown",
      "metadata": {
        "id": "X_Bi_FZhxrwT"
      },
      "source": [
        "# Question 1\n"
      ]
    },
    {
      "cell_type": "code",
      "execution_count": 13,
      "metadata": {
        "colab": {
          "base_uri": "https://localhost:8080/"
        },
        "id": "Tq2MP-0cxq0D",
        "outputId": "55ea479b-97ed-4304-d110-189d65c2e732"
      },
      "outputs": [
        {
          "name": "stdout",
          "output_type": "stream",
          "text": [
            "1  Hello Woqld Python!\n",
            "2  Hello World Python!\n",
            "3  Hello World Python!\n",
            "4  Hello World Python!\n",
            "5  Hello World Python!\n",
            "6  Hello World Pytqon!\n",
            "7  Hello Worlc Python!\n",
            "8  Hello World Python!\n",
            "9  oello World Python!\n",
            "10  Hello World Python!\n"
          ]
        }
      ],
      "source": [
        "txt = input()\n",
        "n = int(input())\n",
        "e = int(input())\n",
        "\n",
        "if e>n:\n",
        "  raise Exception(\"No. of errors more than no. of repetitions\")\n",
        "\n",
        "import random\n",
        "import string\n",
        "rand = random.Random()\n",
        "\n",
        "words_str = \"\".join(chr(x) for x in range(65,123) if 64<x<91 or 96<x<123 )\n",
        "choice_set = list(x for x in range(1,n+1))\n",
        "txt_length = len(txt)\n",
        "# error_set = set(x for x in range(0,txt_length))\n",
        "letter_pos_set = list(x for x in range(0,txt_length) if txt[x] != \" \")\n",
        "answers={x:x for x in range(1,n+1)}\n",
        "cnt_e = e\n",
        "t_f = True if len(letter_pos_set) > e else False\n",
        "for i in range(n):\n",
        "  if cnt_e == 0:\n",
        "    for x in answers:\n",
        "      if answers[x] == x:\n",
        "        answers[x] = txt\n",
        "    break\n",
        "  curr_no = rand.choice(choice_set)\n",
        "  if cnt_e > 0:\n",
        "    pos = rand.choice(letter_pos_set)\n",
        "    t_new = txt[:pos] + rand.choice(words_str) + txt[pos+1:]\n",
        "    answers[curr_no] = t_new\n",
        "    cnt_e -= 1\n",
        "    choice_set.remove(curr_no)\n",
        "    if t_f:\n",
        "      letter_pos_set.remove(pos)\n",
        "\n",
        "# print((zip(answers.keys(), answers.values())))\n",
        "for v in answers:\n",
        "  print(v,\" \"+answers[v])\n",
        "\n"
      ]
    },
    {
      "cell_type": "markdown",
      "metadata": {
        "id": "DVK59s4NJFlL"
      },
      "source": [
        "# Question 2"
      ]
    },
    {
      "cell_type": "code",
      "execution_count": 15,
      "metadata": {},
      "outputs": [],
      "source": [
        "class Node:\n",
        "  def __init__(self, e, p, n):\n",
        "    self.val = e\n",
        "    self.prev = p\n",
        "    self.next = n\n",
        "\n",
        "  def getElement(self):\n",
        "    return self.val\n",
        "  def getNext(self):\n",
        "    return self.next\n",
        "  def getPrev(self):\n",
        "    return self.prev"
      ]
    },
    {
      "cell_type": "code",
      "execution_count": 26,
      "metadata": {
        "id": "3dHY8yvyoAkN"
      },
      "outputs": [],
      "source": [
        "class DoublyLinkedList:\n",
        "\n",
        "\n",
        "  def __init__(self) -> None:\n",
        "    self._head = Node(None, None, None)\n",
        "    self._tail = Node(None, self._head, None)\n",
        "    self._head.next = self._tail\n",
        "    # self._tail.prev = self._head\n",
        "    self._size = 0\n",
        "\n",
        "  def __len__(self):\n",
        "    return self._size\n",
        "\n",
        "  def isEmpty(self):\n",
        "    return self._size == 0\n",
        "\n",
        "  def addBetween(self, val, prev_val, next_val):\n",
        "    value = Node(val, prev_val, next_val)\n",
        "    prev_val.next = value\n",
        "    next_val.prev = value\n",
        "    self._size += 1\n",
        "    return value\n",
        "\n",
        "  def first(self):\n",
        "        if self.isEmpty():\n",
        "          return None\n",
        "        return self._head.getNext().getElement();\n",
        "\n",
        "  def firstNode(self):\n",
        "        if self.isEmpty():\n",
        "          return None\n",
        "        return self._head.getNext()\n",
        "\n",
        "  def last(self):\n",
        "        if self.isEmpty():\n",
        "          return None\n",
        "        return self._tail.getPrev().getElement()\n",
        "\n",
        "  def lastNode(self):\n",
        "        if self.isEmpty():\n",
        "          return None\n",
        "        return self._tail.getPrev()\n",
        "\n",
        "  def addFirst(self, e):\n",
        "        self.addBetween(e,self._head,self._head.getNext());\n",
        "\n",
        "  def addLast(self, e):\n",
        "        self.addBetween(e,self._tail.getPrev(),self._tail)\n",
        "\n",
        "  def popNode(self, node):\n",
        "    pre = node.prev\n",
        "    nex = node.next\n",
        "    pre.next = nex\n",
        "    nex.prev = pre\n",
        "    self._size -= 1\n",
        "    elem = node.getElement()\n",
        "    node.prev = node.next = node.val = None\n",
        "    return elem\n",
        "\n"
      ]
    },
    {
      "cell_type": "code",
      "execution_count": 35,
      "metadata": {
        "colab": {
          "base_uri": "https://localhost:8080/"
        },
        "id": "Js_hfDuS_Z9a",
        "outputId": "5b31f863-8fb9-4a84-f18a-84b57c4fe4df"
      },
      "outputs": [
        {
          "name": "stdout",
          "output_type": "stream",
          "text": [
            "Rama 10\n",
            "Rama 10\n",
            "Raam 15\n",
            "Srikar 1\n",
            "Rama 10\n",
            "Raam 15\n",
            "Srikar 1\n",
            "Rama 10\n",
            "Raam 15\n",
            "Srisir 27\n"
          ]
        }
      ],
      "source": [
        "class StudentRecord:\n",
        "  \n",
        "  def __init__(self):\n",
        "    self.dl = DoublyLinkedList()\n",
        "\n",
        "  def insert_record(self, v):\n",
        "    new_v = v.split()\n",
        "    # i_node = Node(e=v, p=None, n=None)\n",
        "    if len(self.dl) == 0:\n",
        "      self.dl.addFirst(v)\n",
        "      print(v)\n",
        "    else:\n",
        "      a =self.dl.firstNode()\n",
        "      while a.next != None:\n",
        "        s1 = a.getElement()\n",
        "        s2 = a.next.getElement() if a.next.getElement() != None else \"00\"\n",
        "        n1 = int(s1[len(s1)-2:])\n",
        "        n2 = int(s2[len(s2)-2:])\n",
        "        nv = int(new_v[len(new_v)-1])\n",
        "        if nv<n1:\n",
        "          self.dl.addFirst(v)\n",
        "          self.print_func()\n",
        "          break\n",
        "        if n2 != 0:\n",
        "          if n1>=nv and nv<=n2:\n",
        "            self.dl.addBetween(v, a, a.next)\n",
        "            self.print_func()\n",
        "            break\n",
        "        elif n2 == 0:\n",
        "          self.dl.addLast(v)\n",
        "          self.print_func()\n",
        "          break\n",
        "            \n",
        "        a = a.getNext()\n",
        "\n",
        "  def print_func(self):\n",
        "    cnt = 0\n",
        "    b = self.dl.firstNode()\n",
        "    while b.next != None and cnt<10:\n",
        "      print(b.getElement())\n",
        "      b = b.next\n",
        "      cnt+=1\n",
        "        \n",
        "  \n",
        "\n",
        "\n",
        "sr = StudentRecord()\n",
        "\n",
        "x = input()\n",
        "is_true = True\n",
        "while is_true:\n",
        "  if x == \"0\":\n",
        "    is_true = False\n",
        "    break\n",
        "  else:\n",
        "    sr.insert_record(x[2:])\n",
        "    x = input()\n"
      ]
    },
    {
      "cell_type": "markdown",
      "metadata": {
        "id": "LZXXKieVIilP"
      },
      "source": [
        "# Question 3\n"
      ]
    },
    {
      "cell_type": "code",
      "execution_count": 2,
      "metadata": {
        "id": "tte1LMIVIk7t"
      },
      "outputs": [],
      "source": [
        "import time\n",
        "import random\n",
        "import subprocess\n",
        "\n",
        "def rand_no_gen():\n",
        "  while True:\n",
        "    yield random.random()\n",
        "\n",
        "\n",
        "def rand_mat_gen(n):\n",
        "  rgn = rand_no_gen()\n",
        "  rand =random.Random()\n",
        "  mat = [[0 for x in range(n)] for x in range(n)]\n",
        "  for i in range(0, n*n):\n",
        "    # print(\"1\", i//n, \"2\", i%n)\n",
        "    x = rand.random()\n",
        "    mat[i//n][i%n] = next(rgn)\n",
        "  return mat\n",
        "\n",
        "def mat_mul (x, y):\n",
        "  # for two nxn matrices\n",
        "  n = len(x)\n",
        "  ans_mat = [[0 for x in range(n)] for x in range(n)]\n",
        "  for i in range(0,n):\n",
        "    for j in range(0,n):\n",
        "      ans_mat[i][j] = 0\n",
        "      for k in range(0,n):\n",
        "        ans_mat[i][j] += x[i][k] * y[k][j]\n",
        "        # print(ans_mat)\n",
        "  return ans_mat\n",
        "\n",
        "\n",
        "\n",
        "\n"
      ]
    },
    {
      "cell_type": "code",
      "execution_count": 12,
      "metadata": {},
      "outputs": [],
      "source": [
        "times = []\n",
        "\n",
        "for i in range(5,251, 5):\n",
        "    x = rand_mat_gen(i)\n",
        "    y = rand_mat_gen(i)\n",
        "    st = time.time()\n",
        "    m = mat_mul(x,y)\n",
        "    end = time.time()\n",
        "    times.append([i, end-st])\n",
        "\n",
        "with open(\"script.gnuplot\", \"w\") as sc:\n",
        "        sc.write(\"# script.gnuplot \\n\\n\")\n",
        "        sc.write(\"set title 'Matrix Data'\\n\")\n",
        "        sc.write('set xlabel \"n\" \\nset ylabel \"t(n)\" \\nplot \"points.data\"')\n",
        "\n",
        "with open(\"points.data\", \"w\") as pt:\n",
        "        pt.write(\"# points.data \\n\\n\")\n",
        "        for t in times:\n",
        "            pt.write(str(t[0])+\" \"+str(t[1]))\n",
        "            pt.write(\"\\n\")\n",
        "            \n",
        "# in order to execute go to the directory and after installing gnuplot, "
      ]
    },
    {
      "cell_type": "markdown",
      "metadata": {},
      "source": [
        "In order to execute go to the directory and after installing gnuplot, type the following in terminal\n",
        "```shell\n",
        "$ gnuplot -p script.gnuplot\n",
        "```\n",
        "The following is the output for matrices ranging from N=5 to N=250 (although it was asked to plot from N=5 to N=50)"
      ]
    },
    {
      "attachments": {
        "image.png": {
          "image/png": "[encoded data removed]"
        }
      },
      "cell_type": "markdown",
      "metadata": {},
      "source": [
        "![image.png](attachment:image.png)"
      ]
    },
    {
      "cell_type": "markdown",
      "metadata": {},
      "source": [
        "As my `py-gnuplot` was not working, I had to use gnuplot from terminal to plot this\n"
      ]
    }
  ],
  "metadata": {
    "colab": {
      "provenance": [],
      "toc_visible": true
    },
    "kernelspec": {
      "display_name": "Python 3",
      "name": "python3"
    },
    "language_info": {
      "codemirror_mode": {
        "name": "ipython",
        "version": 3
      },
      "file_extension": ".py",
      "mimetype": "text/x-python",
      "name": "python",
      "nbconvert_exporter": "python",
      "pygments_lexer": "ipython3",
      "version": "3.11.9"
    }
  },
  "nbformat": 4,
  "nbformat_minor": 0
}
