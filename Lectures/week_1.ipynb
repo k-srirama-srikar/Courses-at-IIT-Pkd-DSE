{
 "cells": [
  {
   "cell_type": "markdown",
   "metadata": {},
   "source": [
    "---\n",
    "\n",
    "# DS2030: DSA for Data Science\n",
    "\n",
    "---"
   ]
  },
  {
   "cell_type": "markdown",
   "metadata": {},
   "source": [
    "DSA in Python by Robert Tamassia etc<br>\n",
    "Algorithms by Cormen (good ref)"
   ]
  },
  {
   "cell_type": "markdown",
   "metadata": {},
   "source": [
    "Day-1 arrays and linked lists <br><br>\n",
    "8 graded labs<br>\n",
    "Q1 week6 and Q2 week11 (Quizes 20%)<br><br>\n",
    "Graded labs - 30%  <br>\n",
    "W3,4,5,7,9,10,14\n",
    "- take home lab (graded)\n",
    "- in person lab (\") {discussion is allowed}\n",
    "\n",
    "Exams - 50% \n",
    "- Lab Exams - 20% (W8,16)\n",
    "- End Sem - 30% (As per insti schedule)\n",
    "\n",
    "<br>\n",
    "\n",
    "Overall:<br>\n",
    "- Quizzes(2) - 20%\n",
    "- Graded Labs (8) - 30%\n",
    "- Lab Exams(2) - 20%\n",
    "- End Sem (1) - 30%\n",
    "\n",
    "- Bonus - 1% (Attendace)\n"
   ]
  },
  {
   "cell_type": "markdown",
   "metadata": {},
   "source": [
    "What r data structures?<br>\n",
    "organise and easy access<br>"
   ]
  },
  {
   "cell_type": "markdown",
   "metadata": {},
   "source": [
    "### Day 1 - 31.07.2024"
   ]
  },
  {
   "cell_type": "markdown",
   "metadata": {},
   "source": [
    "### Arrays...<br>"
   ]
  },
  {
   "cell_type": "markdown",
   "metadata": {},
   "source": [
    "array - a sequence type...<br>\n",
    "python has built in types, <strong>list</strong>, <strong>tuple</strong>, <strong>str</strong><br>\n",
    "each cell of an array is indexed...<br>\n",
    "array length and capacity... python uses `len()` keyword\n",
    "<br>\n",
    "we can use array to store references of objects... like an array of strings which stores where the string is stored..<br>\n",
    "in `C` address location is returned<br>\n",
    "we can have an array of objects using the same idea<br>\n",
    "theres a module called `array` in python...<br> "
   ]
  },
  {
   "cell_type": "code",
   "execution_count": 1,
   "metadata": {},
   "outputs": [],
   "source": [
    "import array"
   ]
  },
  {
   "cell_type": "code",
   "execution_count": 2,
   "metadata": {},
   "outputs": [
    {
     "name": "stdout",
     "output_type": "stream",
     "text": [
      "array('i', [1, 2, 3, 5, 7, 11, 13, 17, 19, 23])\n",
      "1\n"
     ]
    }
   ],
   "source": [
    "primes = array.array('i', [1,2,3,5,7,11, 13, 17, 19, 23])\n",
    "# doesnt take keyword args\n",
    "primes\n",
    "print(primes)\n",
    "print(primes[0])\n"
   ]
  },
  {
   "cell_type": "markdown",
   "metadata": {},
   "source": [
    "### Day 2 - 02.08.2024"
   ]
  },
  {
   "cell_type": "markdown",
   "metadata": {},
   "source": [
    "<b>insertion:</b>\n",
    "\n",
    "arr a - len - n<br>\n",
    "create arr b len n+1<br>\n",
    "copy all elems in a to b until ind k<br>\n",
    "```\n",
    "for i = 0:k\n",
    "{b[i] = a[i]}\n",
    "```\n",
    "insert obj into b at k<br>\n",
    "```\n",
    "b[k] = obj\n",
    "```\n",
    "copy elems in a form k to n into b from k+1 to n+1 <br>\n",
    "```\n",
    "for i=k:n\n",
    "{b[i+1]=a[i]}\n",
    "```"
   ]
  },
  {
   "cell_type": "markdown",
   "metadata": {},
   "source": [
    "<b>Note:</b> Write comments `#`"
   ]
  },
  {
   "cell_type": "markdown",
   "metadata": {},
   "source": [
    "<b>deletion:</b>\n",
    "\n",
    "search for o - ret ind where o is present\n",
    "<br>\n",
    "create a new arr of len n-1\n",
    "<br>\n",
    "copy elems in a from 0:k-1 into b from 0:k-1<br>\n",
    "then copy elems from k+1:n into b from k:n-1\n",
    "<br>\n",
    "note that merely writing in eng is insufficient\n",
    "<br>\n",
    "we need to write snippets as well"
   ]
  },
  {
   "cell_type": "markdown",
   "metadata": {},
   "source": [
    "<strong>Growable array...<strong>"
   ]
  },
  {
   "cell_type": "markdown",
   "metadata": {},
   "source": [
    "In an add(o) operation (without an index), we could always add at the end.<br>\n",
    "When the array is full, we replace the array with a larger one.<br>\n",
    "As for how large should the new array be? We, have two strategies, which we'll compare at the end.<br> "
   ]
  },
  {
   "cell_type": "markdown",
   "metadata": {},
   "source": [
    "<b>increment strategy:</b> inc by connst c<br>\n",
    "<b>doubling strategy:</b> doubles the size"
   ]
  },
  {
   "cell_type": "markdown",
   "metadata": {},
   "source": [
    "<b>inc start analysis:</b>\n",
    "\n",
    "we replace array k=n/c time<br>\n",
    "total time T(n) of a series of add ops is prop to <br>\n",
    "n+c+2c+3c+...+kc=<br>\n",
    "n+k^2"
   ]
  },
  {
   "cell_type": "markdown",
   "metadata": {},
   "source": [
    "<b>dbl strat analysis:</b>\n",
    "\n",
    "arr k = log(2)n<br>\n",
    "T(n) = 3n-1<br>\n",
    "T(n) is O(n)<br>\n",
    "the amortized time is O(1)<br>"
   ]
  },
  {
   "cell_type": "code",
   "execution_count": 5,
   "metadata": {},
   "outputs": [
    {
     "name": "stdout",
     "output_type": "stream",
     "text": [
      "[1, 3, 35, 46, 75, 75, 242, 32453, 64364]\n"
     ]
    }
   ],
   "source": [
    "'''isrertion sort'''\n",
    "\n",
    "a = [1,242,35,64364,3,75,75,32453,46]\n",
    "\n",
    "n = len(a)\n",
    "\n",
    "# arr a of len n\n",
    "\n",
    "for i in range(1, n):\n",
    "    curr = a[i]\n",
    "    # print(curr)\n",
    "    j = i\n",
    "    while j>0 and a[j-1]>curr:\n",
    "        a[j] = a[j-1]\n",
    "        # print(\"ssrweet\")\n",
    "        j-=1\n",
    "    a[j] = curr\n",
    "\n",
    "print(a)\n",
    "\n"
   ]
  },
  {
   "cell_type": "markdown",
   "metadata": {},
   "source": [
    "### Day 3 - 05.08.2024"
   ]
  },
  {
   "cell_type": "markdown",
   "metadata": {},
   "source": [
    "### Singly Linked Lists"
   ]
  },
  {
   "cell_type": "markdown",
   "metadata": {},
   "source": [
    "head -> a -> b -> c -> d -> $\\otimes$<br>\n",
    "Head points to a i.e., `head.next = a`\n",
    "\n",
    "a singly linked list is a concrete data structure consisting of a sequence of nodes, starting from a head pointer\n",
    "\n",
    "node class:<br>\n",
    "`[[elem], [next]]`\n",
    "<br> next points to the next node object"
   ]
  },
  {
   "cell_type": "markdown",
   "metadata": {},
   "source": [
    "`traversal algorithm...`<br>\n",
    "```python\n",
    "l1 = Linkedlist()\n",
    "a = l1.head.next\n",
    "while a != None:\n",
    "    print(a)\n",
    "    a = a.next\n",
    "```"
   ]
  },
  {
   "cell_type": "markdown",
   "metadata": {},
   "source": [
    "`insert op at head`\n",
    "\n",
    "```python\n",
    "iNode = Node(e)\n",
    "# step1 creating a node obj containing an element e\n",
    "# step2 insert new element\n",
    "head = l1.head()\n",
    "iNode.next() = head.next()\n",
    "head.next() = iNode\n",
    "```"
   ]
  },
  {
   "cell_type": "markdown",
   "metadata": {},
   "source": [
    "`deletion op @ head`\n",
    "```python\n",
    "head = head.next()\n",
    "```\n",
    "\n"
   ]
  },
  {
   "cell_type": "markdown",
   "metadata": {},
   "source": [
    "### Doubly Linked List"
   ]
  },
  {
   "cell_type": "markdown",
   "metadata": {},
   "source": [
    "Node class attrs:<br>\n",
    "`[[prev], [elem], [next]]`\n",
    "\n",
    "`header <=> node1 <=> node2 <=> node3 <=> trailer`\n",
    "<br>"
   ]
  },
  {
   "cell_type": "markdown",
   "metadata": {},
   "source": [
    "`insertion of elem`\n",
    "\n",
    "```python\n",
    "iNode = Node(prev=None, elem=e, next=None)\n",
    "iNode.next() = p.next()\n",
    "p.next() = iNode()\n",
    "iNode.prev() = p\n",
    "iNode.next().prev() = iNode\n",
    "```\n",
    "if p is given, then insertion is independent of no. of elements"
   ]
  },
  {
   "cell_type": "markdown",
   "metadata": {},
   "source": [
    "`deletion of elem`\n"
   ]
  },
  {
   "cell_type": "markdown",
   "metadata": {},
   "source": [
    "space is `O(n)`\n",
    "<br>\n",
    "space used by eash pos is `O(1)`\n",
    "<br>\n",
    "all standard ops have a runtime of `O(1)`"
   ]
  },
  {
   "cell_type": "markdown",
   "metadata": {},
   "source": [
    "---\n",
    "<p align = center> End of Week 1</p> \n",
    "\n",
    "---"
   ]
  }
 ],
 "metadata": {
  "kernelspec": {
   "display_name": "Python 3",
   "language": "python",
   "name": "python3"
  },
  "language_info": {
   "codemirror_mode": {
    "name": "ipython",
    "version": 3
   },
   "file_extension": ".py",
   "mimetype": "text/x-python",
   "name": "python",
   "nbconvert_exporter": "python",
   "pygments_lexer": "ipython3",
   "version": "3.11.9"
  }
 },
 "nbformat": 4,
 "nbformat_minor": 2
}
