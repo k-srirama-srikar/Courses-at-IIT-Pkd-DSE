{
 "cells": [
  {
   "cell_type": "markdown",
   "metadata": {},
   "source": [
    "---\n",
    "\n",
    "# Week 6\n",
    "\n",
    "---"
   ]
  },
  {
   "cell_type": "markdown",
   "metadata": {},
   "source": [
    "## Day 17 - 06.09.2024"
   ]
  },
  {
   "cell_type": "markdown",
   "metadata": {},
   "source": [
    "### Binary Search Trees"
   ]
  },
  {
   "cell_type": "markdown",
   "metadata": {},
   "source": [
    "What is search?<br>\n",
    "A = N elements<br> \n",
    "e $\\in$ A ? <br>\n",
    "\n",
    "If A is sorted we would go for binary search"
   ]
  },
  {
   "cell_type": "markdown",
   "metadata": {},
   "source": [
    "Binary Search Tree is a binary tree storing keys (or key valur pairs) at its internal nodes and satisfying the following properties:<br>\n",
    " - let u,v and w be three nodes such that ..... (refer to the slides)"
   ]
  },
  {
   "cell_type": "markdown",
   "metadata": {},
   "source": [
    "dont feel writing, or rather typing, anymore"
   ]
  },
  {
   "cell_type": "markdown",
   "metadata": {},
   "source": [
    "**AVL Search Trees**"
   ]
  },
  {
   "cell_type": "markdown",
   "metadata": {},
   "source": [
    "## Day 18 - 09.09.2024"
   ]
  },
  {
   "cell_type": "markdown",
   "metadata": {},
   "source": [
    "### AVL Tree\n",
    "\n",
    "- Adel'son, Vel'skii, Landis\n",
    "- the diff in heights of the children can be atmost 1\n",
    "- height balance property\n",
    "\n",
    "```\n",
    "Ex:\n",
    "     44        \n",
    "   /     \\     \n",
    "17        78   \n",
    "  \\      /  \\  \n",
    "  32    50  88 \n",
    "       /  \\    \n",
    "      48  62   \n",
    "```"
   ]
  },
  {
   "cell_type": "markdown",
   "metadata": {},
   "source": [
    "AVL Tree with _n_ keys has height _O(logn)_ $\\\\$\n",
    "proof: m(h)- min no of keys in an AVL tree of height h <br>\n",
    "m(h) = 1 + m(L<sub>H</sub>) + m(R<sub>H</sub>) <br>\n",
    "&emsp; = 1 + m(h-1) + m(h-2) #as we need the min nodes this is only possible if theres a diff of one level    \n",
    "&emsp; > 1 + m(h-2) + m(h-2)\\\n",
    "&emsp; > 2m(h-2)\\\n",
    "&emsp; > 4m(h-4)\\\n",
    "&emsp; > 8m(h-6)\\\n",
    "&emsp; > 2<sup>i/2</sup>m(h-i)\\\n",
    "\\\n",
    "base case: h-i<1 or 2\\\n",
    "&emsp; h-i = 2\\\n",
    "&emsp; i = h-2\\\n",
    ".  \n",
    ".  \n",
    ".  \n",
    "\n"
   ]
  },
  {
   "cell_type": "markdown",
   "metadata": {},
   "source": [
    "_A sharper bound..._\n",
    "\\\n",
    "m(h) $\\ge$ c<sup>h-1</sup>\n",
    "here c is $(1 + \\sqrt{5})/2$ ($golden \\space ratio$)"
   ]
  },
  {
   "cell_type": "code",
   "execution_count": 2,
   "metadata": {},
   "outputs": [
    {
     "name": "stdout",
     "output_type": "stream",
     "text": [
      "Golden Ratio: 1.618033988749895\n"
     ]
    }
   ],
   "source": [
    "print(\"Golden Ratio:\",(1+pow(5,0.5))/2)"
   ]
  },
  {
   "cell_type": "markdown",
   "metadata": {},
   "source": [
    "_Structure of an AVL Tree_\n",
    "- consider an AVL tree on _n_ nodes and the leaf that is closest to the root is at level _k_. Then\n",
    "    - the height of the AVL tree is at most 2k-1\n",
    "    - ```\n",
    "                o(5)\n",
    "              /   \\\n",
    "             o(3)  Δ(4)\n",
    "            /   \\\n",
    "          o(1)   Δ(2)\n",
    "         / \\ \n",
    "        k   Δ\n",
    "      ```\n",
    "    \n",
    "    - all nodes at levels 1,2,..,k-2 have 2 children\n",
    "      - all levels 1,..k-1 are full\n",
    "      - hence all trees have at least \n"
   ]
  },
  {
   "cell_type": "code",
   "execution_count": 2,
   "metadata": {},
   "outputs": [
    {
     "name": "stdout",
     "output_type": "stream",
     "text": [
      "\n",
      "                o(5)\n",
      "              /.   \\\n",
      "             o(3)  Δ(4)\n",
      "            /   \\\n",
      "          o(1)   Δ(2)\n",
      "         / \\ \n",
      "        k   Δ\n",
      "    \n",
      "\n"
     ]
    }
   ],
   "source": [
    "s = '''\n",
    "                o(5)\n",
    "              /   \\\\\n",
    "             o(3)  Δ(4)\n",
    "            /   \\\\\n",
    "          o(1)   Δ(2)\n",
    "         / \\\\ \n",
    "        k   Δ\n",
    "    '''\n",
    "\n",
    "print(s)\n",
    "l1 = []\n",
    "for a in s:\n",
    "    l1.append(a)\n",
    "print()"
   ]
  },
  {
   "cell_type": "markdown",
   "metadata": {},
   "source": [
    "## Day 19 - 11.09.2024"
   ]
  },
  {
   "cell_type": "markdown",
   "metadata": {},
   "source": [
    "Insertion in a BST\\\n",
    "see the pdf..."
   ]
  },
  {
   "cell_type": "markdown",
   "metadata": {},
   "source": [
    "The tree below is an AVL tree\n",
    "```\n",
    "                  44      \n",
    "              /       \\   \n",
    "             17       78  \n",
    "            /  \\     /  \\ \n",
    "                32  50  88\n",
    "                   /  \\   \n",
    "                  48   62 \n",
    "```\n",
    "\n",
    "We are now inserting 54 \n",
    "\n",
    "```\n",
    "                  44      \n",
    "              /       \\   \n",
    "             17       78  \n",
    "            /  \\     /  \\ \n",
    "                32  50  88\n",
    "                   /  \\   \n",
    "                  48   62 \n",
    "                      /   \n",
    "                     54   \n",
    "```"
   ]
  },
  {
   "cell_type": "markdown",
   "metadata": {},
   "source": [
    "After insertion we need to see if the AVL property is satisfied... \\\n",
    "To rebalance we rotate...\n",
    "\n",
    "Rotations\n",
    "- a way of locally organinsing a BST\n",
    "- x,y be two nodes such that y=parent(x)\n",
    "- keys(T1) < key(x) < key(T2) < Key(y) < Key(T3)\n",
    "\n",
    "```\n",
    "            y\n",
    "```"
   ]
  },
  {
   "cell_type": "markdown",
   "metadata": {},
   "source": [
    "## Day 20 - 13.09.2024"
   ]
  },
  {
   "cell_type": "markdown",
   "metadata": {},
   "source": [
    "AVL tree had a height imbalance, so, we needed to make some rotation operations"
   ]
  },
  {
   "cell_type": "markdown",
   "metadata": {},
   "source": [
    "```\n",
    "        \\\n",
    "        z\n",
    "       / \\\n",
    "      y   T0\n",
    "     / \\\n",
    "    T3  x\n",
    "       / \\\n",
    "      T1 T2  \n",
    "```\n",
    "\n",
    "\n",
    "\n",
    "\n",
    "double rotation\n",
    "- insertion at T1\n",
    "- t1  : h -> h+1\n",
    "- x : h+1 -> h+2\n",
    "- t3 : has height h+1\n",
    "- y : h+2 -> h+3\n",
    "- T(0) : can only be h+1 (as z is where first imbalance occurs)\n",
    "- z : h+3 -> h+4\n",
    "\n",
    "The difference from the previous insertions is that the pattern is different\n",
    "\n",
    "- first step\n",
    "  - rotate x and y   \n",
    "      \n",
    "      ```python\n",
    "            x   \n",
    "           / \\\n",
    "          T1  y\n",
    "             / \\\n",
    "            T2 T3\n",
    "      ```\n",
    "- second step\n",
    "  - rotate x and z\n",
    "      \n",
    "      ```c\n",
    "                  x\n",
    "                 / \\\n",
    "                y   z\n",
    "               / \\ / \\\n",
    "              T3 T1T2 T0 \n",
    "      ```\n",
    "\n",
    "Now we are restoring the height of the node where imbalance occurs and we now no more need to look for the height balance of the ancestors \\\n",
    "We can similarly  restructure it for a similar condition where the sub-tree is th mirror image of the above example\n"
   ]
  },
  {
   "cell_type": "markdown",
   "metadata": {},
   "source": [
    "Algorithm"
   ]
  },
  {
   "cell_type": "code",
   "execution_count": 2,
   "metadata": {},
   "outputs": [],
   "source": [
    "def id_the_case(x,y,z):\n",
    "    '''\n",
    "    If z.left = y\n",
    "        if y.left = x\n",
    "            LL scenario\n",
    "            S_Rotation (x,y,z)\n",
    "        else y.right = x\n",
    "            LR scenario \n",
    "            D_Rotation (x,y,z)\n",
    "\n",
    "    else\n",
    "        if y.left = x\n",
    "            RL scenario\n",
    "            D_Rotation (x,y,z)\n",
    "        else y.right = x\n",
    "            RR scenario \n",
    "            S_Rotation (x,y,z)\n",
    "\n",
    "    '''\n",
    "    pass"
   ]
  },
  {
   "cell_type": "markdown",
   "metadata": {},
   "source": [
    "__Removing a node__\n",
    "\n",
    "$ On \\space removing \\space a \\space node, \\space the \\space node \\space that \\space has \\space been \\space removed \\space becomes \\space an \\space empty \\space external \\space node \\\\\n",
    "We \\space perform \\space a \\space trinode \\space restructuring \\space at \\space to \\space restore \\space  the\\space  balance\\space  at\\space  z,\\space  where\\space  the\\space  first\\space  imbalance \\space occurs \\\\\n",
    "After\\space  we \\space do \\space this \\space we \\space need \\space to \\space check \\space for \\space height\\space  imbalance\\space  till\\space  the\\space  root$"
   ]
  },
  {
   "cell_type": "markdown",
   "metadata": {},
   "source": [
    "```c\n",
    "        z\n",
    "       / \\\n",
    "      y  T0\n",
    "     / \\\n",
    "    x  T1\n",
    "   / \\\n",
    "  T2 T3\n",
    "```\n",
    "\n",
    "Suppose deletion happens at subtree T0 and its height reduces from h to h-1\\\n",
    "then we rotate to get\n",
    "```python\n",
    "y={x,z}\n",
    "x={T2,T3}\n",
    "z={T1,T0}\n",
    "```"
   ]
  },
  {
   "cell_type": "markdown",
   "metadata": {},
   "source": [
    "## Day 22 - 23.09.2023"
   ]
  },
  {
   "cell_type": "markdown",
   "metadata": {},
   "source": [
    "### Test 1 Score Distribution\n",
    "\n",
    "- (24-27] - 1 \n",
    "- (21-24] - 1 \n",
    "- (18-21] - 2 \n",
    "- (15-18] - 8 \n",
    "- (12-15] - 5 \n",
    "- (9-12] - 7 \n",
    "- (6-9] - 4\n",
    "- (3-6] - 3\n",
    "- [0-3] - 8"
   ]
  },
  {
   "cell_type": "markdown",
   "metadata": {},
   "source": [
    "#### **AVL Tree implementation and rotation algorithms**\n",
    "\n",
    "```python\n",
    "\n",
    "class AVLNode:\n",
    "    def __init__(self, key):\n",
    "        Node.key = key\n",
    "        Node.lc = None\n",
    "        Node.rc = None\n",
    "        Node.height = 1\n",
    "        Node.parent = None\n",
    "\n",
    "#       y\n",
    "#      / \\\n",
    "#     x   T3\n",
    "#    / \\\n",
    "#   T1 T2\n",
    "\n",
    "# this is rearranged to the following\n",
    "\n",
    "#       x\n",
    "#      / \\\n",
    "#     T1  y\n",
    "#        / \\\n",
    "#       T2 T3\n",
    "\n",
    "\n",
    "def rr(y):\n",
    "    # right rotation of y\n",
    "    temp = y.lc\n",
    "    y.lc = temp.rc\n",
    "    temp.rc = y\n",
    "    temp.parent = y.parent\n",
    "    # y.parent = temp (this can be taken care outside of the function)\n",
    "    return temp\n",
    "\n",
    "\n",
    "'''\n",
    "#       y\n",
    "#      / \\\n",
    "#     T3  x\n",
    "#        / \\\n",
    "#       T1 T2\n",
    "\n",
    "# this is the left rotation\n",
    "\n",
    "#       x\n",
    "#      / \\\n",
    "#     y   T2\n",
    "#    / \\\n",
    "#   T3 T1\n",
    "'''\n",
    "\n",
    "def lr(y):\n",
    "    # left rotation at y\n",
    "    temp = y.rc\n",
    "    y.rc = temp.lc\n",
    "    temp.lc = y\n",
    "    temp.parent = y.parent\n",
    "    y.parent = temp\n",
    "    return temp\n",
    "\n",
    "\n",
    "'''\n",
    "# Now considering the double rotation scenarios\n",
    "\n",
    "#         z\n",
    "#        / \\\n",
    "#       y  T4\n",
    "#      / \\\n",
    "#     T3  x  \n",
    "#        / \\\n",
    "#       T1 T2\n",
    "\n",
    "\n",
    "#           x\n",
    "#        /     \\\n",
    "#       y       z\n",
    "#      / \\     / \\\n",
    "#     T3  T1  T2 T4\n",
    "'''\n",
    "# we need to do a left rotation at y initially\n",
    "z.lc = lr(z.lc)\n",
    "# then we'll do a right rotation at z\n",
    "# but if we're doing double roation, we need to make sure that the pointers are properly rearranged\n",
    "rr(z)\n",
    "\n",
    "# now consider a case that is the mirror image of the above case\n",
    "\n",
    "z.rc = rr(z.rc)\n",
    "lr(z)\n",
    "\n",
    "\n",
    "\n",
    "def insert(Node=root,key):\n",
    "    # initial value of the node will be the root\n",
    "    # base case is when the node is a leaf node\n",
    "    # i.e., node = None\n",
    "    if Node==None:\n",
    "        return NewNode = AVLNode(key)\n",
    "    else:\n",
    "        if Node.key < key:\n",
    "            Node.rc = insert(Node.rc, key)\n",
    "            return Node.rc\n",
    "        else:\n",
    "            Node.lc = insert(Node.lc, key)\n",
    "            return Node.lc\n",
    "    # now height needs to be updated \n",
    "    # Node.height = 1 + max(Node.lc.height, Node.rc.height)\n",
    "    # we need to modify this code to add this\n",
    "    # this will ensure that we have inserted at the correct location        \n",
    "\n",
    "\n",
    "``` "
   ]
  },
  {
   "cell_type": "markdown",
   "metadata": {},
   "source": [
    "## Day 23 - 25.09.2024"
   ]
  },
  {
   "cell_type": "markdown",
   "metadata": {},
   "source": [
    "### Insertion and Deletion in an AVL tree"
   ]
  },
  {
   "cell_type": "markdown",
   "metadata": {},
   "source": [
    "```python\n",
    "def insert(Node=root,key):\n",
    "    # initial value of the node will be the root\n",
    "    # base case is when the node is a leaf node\n",
    "    # i.e., node = None\n",
    "    if Node==None:\n",
    "        return NewNode = AVLNode(key)\n",
    "    else:\n",
    "        if Node.key < key:\n",
    "            Node.rc = insert(Node.rc, key)\n",
    "            return Node.rc\n",
    "        else:\n",
    "            Node.lc = insert(Node.lc, key)\n",
    "            return Node.lc\n",
    "    # now height needs to be updated \n",
    "    Node.height = 1 + max(Node.lc.height, Node.rc.height)\n",
    "    # we need to modify this code to add this\n",
    "    # this will ensure that we have inserted at the correct location \n",
    "    \n",
    "    # this is the general idea of balance\n",
    "    # balance = Node.lc.height - Node.rc.height\n",
    "    \n",
    "    \n",
    "    '''\n",
    "    # Here Node is z (the first place where the imbalance occurs)\n",
    "\n",
    "    #       z\n",
    "    #      / \n",
    "    #     y  \n",
    "    #    /   \n",
    "    #   x\n",
    "    # balance > 1\n",
    "    # key < Node.lc.key\n",
    "    # this implies,\n",
    "    # right_rotation(Node)\n",
    "    \n",
    "    #   z\n",
    "    #    \\   \n",
    "    #     y\n",
    "    #      \\\n",
    "    #       x\n",
    "    # blance < -1\n",
    "    # key > Node.rc.key\n",
    "    # this implies,\n",
    "    # left_rotation(Node)\n",
    "            \n",
    "            \n",
    "    #       z\n",
    "    #      / \n",
    "    #     y  \n",
    "    #      \\   \n",
    "    #       x\n",
    "    # balance > 1\n",
    "    # key > Node.lc.key\n",
    "    # this implies,\n",
    "    # left_rotation(Node.lc)\n",
    "    # right_rotation(Node)\n",
    "\n",
    "    #   z\n",
    "    #    \\   \n",
    "    #     y\n",
    "    #    /\n",
    "    #   x\n",
    "    # blance < -1\n",
    "    # key > Node.rc.key\n",
    "    # right_rotation(Node.rc)\n",
    "    # left_rotation(Node)\n",
    "    '''\n",
    "\n",
    "    # this can be figured out in the code below\n",
    "\n",
    "    balance =  getBalance(Node)\n",
    "    # the getBalance function needs to ensure all the possible cases\n",
    "    if balance > 1:\n",
    "        if key < Node.lc.key:\n",
    "            rr(Node)\n",
    "        if key > Node.lc.key:\n",
    "            lr(Node.lc)\n",
    "            rr(Node)\n",
    "    # the other cases follow \n",
    "    # this is one way of going about id there could be other ways as well\n",
    "    # use that in the lab 5 take home\n",
    "\n",
    "\n",
    "# now we need to figure out deletions\n",
    "# now, consider the case of insertion\n",
    "# in insertion the height increases \n",
    "# and the restructuring puts it to the same height before the insertion\n",
    "# but in the case of deletion, the height imbalace might \n",
    "# go up till the root and the height of the whole AVL tree may change!\n",
    "\n",
    "def inorder_successor(Node):\n",
    "    pass\n",
    "\n",
    "\n",
    "def delete(Node, key):\n",
    "    if Node==None:\n",
    "        # the key is not present\n",
    "        return \n",
    "    else:\n",
    "        if Node.key>key:\n",
    "            Node.lc = delete(Node.lc, key)\n",
    "        elif Node.key<key:\n",
    "            Node.rc = delete(Node.rc,key)\n",
    "        elif Node.key == key:\n",
    "            if Node.lc==None:\n",
    "                if Node.rc==None:\n",
    "                    return None\n",
    "                else:\n",
    "                    return Node.rc\n",
    "            else:\n",
    "                if Node.rc == None:\n",
    "                    return Node.lc\n",
    "                else:\n",
    "                    temp = inorder_successor(Node)\n",
    "                    Node.key = temp.key\n",
    "                    Node.rc = delete(Node.rc, Node.key)\n",
    "                Node.height=1+max(Node.lc.height, Node.rc.height)\n",
    "    pass\n",
    "\n",
    "    \n",
    "```"
   ]
  },
  {
   "cell_type": "markdown",
   "metadata": {},
   "source": [
    "## Day 24 - 27.09.2024"
   ]
  },
  {
   "cell_type": "markdown",
   "metadata": {},
   "source": [
    "```python\n",
    "\n",
    "    # until the above alg, we didnot update the height of the \n",
    "    # we need to use the below \n",
    "    # Node.height.....\n",
    "    # then we need to balance as well \n",
    "    balance  =  Node.lc.height - Node.rc.height\n",
    "\n",
    "    # look at the balance of z.right, i.e., y\n",
    "    \n",
    "\n",
    "\n",
    "```\n"
   ]
  },
  {
   "cell_type": "markdown",
   "metadata": {},
   "source": [
    "### Multi Way Search Tree"
   ]
  },
  {
   "cell_type": "markdown",
   "metadata": {},
   "source": [
    "- A multi way search tree is an ordered tree such that \n",
    "    - Each internal node has atleast 2 children and stores d-1 key elements (k<sub>i</sub> , o<sub>i</sub>), where d is the number of children\n",
    "    - For a node with children v1, v2, ... vd storing keys k1, k2, ... kd-1\n",
    "        - keys in the subtree of v1 are less than k1\n",
    "        - keys in the subtree vi are between ki-1 and ki (i=2,....d-1)\n",
    "        - keys in the subtree of vd are greater than \n",
    "    - the leaves store no items and act as place holders (similar to bst)"
   ]
  },
  {
   "cell_type": "markdown",
   "metadata": {},
   "source": [
    "Multiway inorder traversal\n",
    "...\n",
    "\n",
    "Multi way searching...\n",
    "\n",
    "> NOTE: having the constraint of d-1 keys helps "
   ]
  },
  {
   "cell_type": "markdown",
   "metadata": {},
   "source": []
  }
 ],
 "metadata": {
  "kernelspec": {
   "display_name": "Python 3 (ipykernel)",
   "language": "python",
   "name": "python3"
  },
  "language_info": {
   "codemirror_mode": {
    "name": "ipython",
    "version": 3
   },
   "file_extension": ".py",
   "mimetype": "text/x-python",
   "name": "python",
   "nbconvert_exporter": "python",
   "pygments_lexer": "ipython3",
   "version": "3.11.10"
  }
 },
 "nbformat": 4,
 "nbformat_minor": 4
}
